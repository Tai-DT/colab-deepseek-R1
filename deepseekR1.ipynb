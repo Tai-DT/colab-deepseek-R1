{
  "nbformat": 4,
  "nbformat_minor": 0,
  "metadata": {
    "colab": {
      "private_outputs": true,
      "provenance": [],
      "toc_visible": true,
      "mount_file_id": "1ytajot9sNvxCbSlF2ehHs-yUv_gXljWO",
      "authorship_tag": "ABX9TyN+bpmuhH+Dm+sCJyNcrd9R",
      "include_colab_link": true
    },
    "kernelspec": {
      "name": "python3",
      "display_name": "Python 3"
    },
    "language_info": {
      "name": "python"
    }
  },
  "cells": [
    {
      "cell_type": "markdown",
      "metadata": {
        "id": "view-in-github",
        "colab_type": "text"
      },
      "source": [
        "<a href=\"https://colab.research.google.com/github/Tai-DT/colab-deepseek-R1/blob/main/deepseekR1.ipynb\" target=\"_parent\"><img src=\"https://colab.research.google.com/assets/colab-badge.svg\" alt=\"Open In Colab\"/></a>"
      ]
    },
    {
      "cell_type": "code",
      "execution_count": null,
      "metadata": {
        "id": "rORwLLFaFmRW"
      },
      "outputs": [],
      "source": [
        "!pip install langchain\n",
        "!pip install langchain-core\n",
        "!pip install langchain-community\n",
        "!pip install colab-xterm"
      ]
    },
    {
      "cell_type": "code",
      "source": [
        "%load_ext colabxterm\n",
        "%xterm"
      ],
      "metadata": {
        "collapsed": true,
        "id": "MtJEXBsfFusq"
      },
      "execution_count": null,
      "outputs": []
    },
    {
      "cell_type": "code",
      "source": [
        "!pip install gradio"
      ],
      "metadata": {
        "id": "Tyi5muTIF4uF"
      },
      "execution_count": null,
      "outputs": []
    },
    {
      "cell_type": "code",
      "source": [
        "import subprocess\n",
        "\n",
        "def query_deepseek_r1(prompt):\n",
        "    command = f'ollama run deepseek-r1:7b \"{prompt}\"'\n",
        "    result = subprocess.run(command, shell=True, capture_output=True, text=True)\n",
        "\n",
        "    return result.stdout"
      ],
      "metadata": {
        "id": "bXfnPgZ3G4qE"
      },
      "execution_count": null,
      "outputs": []
    },
    {
      "cell_type": "code",
      "source": [
        "import gradio as gr\n",
        "\n",
        "def gradio_interface(prompt):\n",
        "    response = query_deepseek_r1(prompt)\n",
        "    return response\n",
        "\n",
        "iface = gr.Interface(\n",
        "    fn=gradio_interface,\n",
        "    inputs=\"text\",\n",
        "    outputs=\"text\",\n",
        "    title=\"DeepSeek R1 Chatbot\",\n",
        "    description=\"Ask anything to the DeepSeek R1 model!\"\n",
        ")\n",
        "\n",
        "iface.launch(share=True)"
      ],
      "metadata": {
        "id": "UrvvPwioG5Gk"
      },
      "execution_count": null,
      "outputs": []
    }
  ]
}